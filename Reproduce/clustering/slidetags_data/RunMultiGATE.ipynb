{
 "cells": [
  {
   "cell_type": "markdown",
   "metadata": {},
   "source": [
    "# Identify tumor regions on Slide-tags data.\n"
   ]
  },
  {
   "cell_type": "markdown",
   "metadata": {},
   "source": [
    "\n",
    "In this tutorial, we foucs on the Slide-tags human melanoma data. The raw data and processed data are available at [Google Drive](https://drive.google.com/drive/folders/1rAAbJcpMbXLz8eqNsPCE90pa9DpdijjH?usp=sharing). "
   ]
  },
  {
   "cell_type": "code",
   "execution_count": 33,
   "metadata": {},
   "outputs": [],
   "source": [
    "import os\n",
    "# set visible GPU 0\n",
    "os.environ[\"CUDA_VISIBLE_DEVICES\"] = \"0\""
   ]
  },
  {
   "cell_type": "code",
   "execution_count": 34,
   "metadata": {},
   "outputs": [],
   "source": [
    "\n",
    "import scanpy as sc\n",
    "import matplotlib.pyplot as plt\n",
    "import sys\n",
    "# Import MultiGATE package\n",
    "sys.path.insert(0, '/lustre/project/Stat/s1155202250/fastfolder/code/st/MultiGATE/MultiGATEgithub0607/tutorial_notebooks')\n",
    "import MultiGATE "
   ]
  },
  {
   "cell_type": "markdown",
   "metadata": {},
   "source": [
    "### Load scRNA seq data"
   ]
  },
  {
   "cell_type": "code",
   "execution_count": 35,
   "metadata": {},
   "outputs": [
    {
     "data": {
      "text/plain": [
       "AnnData object with n_obs × n_vars = 833 × 3000\n",
       "    obs: 'n_genes_by_counts', 'log1p_n_genes_by_counts', 'total_counts', 'log1p_total_counts', 'pct_counts_in_top_50_genes', 'pct_counts_in_top_100_genes', 'pct_counts_in_top_200_genes', 'pct_counts_in_top_500_genes', 'louvain', 'wnn'\n",
       "    var: 'n_cells_by_counts', 'mean_counts', 'log1p_mean_counts', 'pct_dropout_by_counts', 'total_counts', 'log1p_total_counts', 'n_cells', 'highly_variable', 'highly_variable_rank', 'means', 'variances', 'variances_norm'\n",
       "    uns: 'Spatial_Net', 'avg', 'gene_peak_Net', 'hvg', 'log1p', 'louvain', 'louvain_colors', 'umap', 'wnn_colors'\n",
       "    obsm: 'MultiGATE', 'MultiGATE_clip_all', 'X_umap', 'spatial'\n",
       "    obsp: 'avg_connectivities', 'avg_distances'"
      ]
     },
     "execution_count": 35,
     "metadata": {},
     "output_type": "execute_result"
    }
   ],
   "source": [
    "\n",
    "base_path = './outputslidetags0831_cluster2/'\n",
    "import os\n",
    "os.makedirs(base_path, exist_ok=True)\n",
    "\n",
    "\n",
    "file_name= os.path.join(base_path,'slideTags_adata1.h5ad')\n",
    "adata1 = sc.read_h5ad(file_name)\n",
    "adata1"
   ]
  },
  {
   "cell_type": "markdown",
   "metadata": {},
   "source": [
    "### Load ATAC data"
   ]
  },
  {
   "cell_type": "code",
   "execution_count": 36,
   "metadata": {},
   "outputs": [
    {
     "data": {
      "text/plain": [
       "AnnData object with n_obs × n_vars = 833 × 13665\n",
       "    obs: 'n_genes_by_counts', 'log1p_n_genes_by_counts', 'total_counts', 'log1p_total_counts', 'pct_counts_in_top_50_genes', 'pct_counts_in_top_100_genes', 'pct_counts_in_top_200_genes', 'pct_counts_in_top_500_genes', 'wnn'\n",
       "    var: 'n_cells_by_counts', 'mean_counts', 'log1p_mean_counts', 'pct_dropout_by_counts', 'total_counts', 'log1p_total_counts', 'n_cells', 'highly_variable', 'highly_variable_rank', 'means', 'variances', 'variances_norm', 'chrom', 'chromStart', 'chromEnd'\n",
       "    uns: 'Spatial_Net', 'gene_peak_Net', 'hvg', 'log1p'\n",
       "    obsm: 'MultiGATE', 'MultiGATE_clip_all', 'X_umap', 'spatial'"
      ]
     },
     "execution_count": 36,
     "metadata": {},
     "output_type": "execute_result"
    }
   ],
   "source": [
    "import os\n",
    "file_name= os.path.join(base_path,'slideTags_adata2.h5ad')\n",
    "adata2 = sc.read_h5ad(file_name)\n",
    "adata2\n"
   ]
  },
  {
   "cell_type": "code",
   "execution_count": 37,
   "metadata": {},
   "outputs": [
    {
     "name": "stderr",
     "output_type": "stream",
     "text": [
      "/lustre/project/Stat/s1155202250/fastfolder/code/st/MultiGATE/MultiGATEgithub0607/MultiGATE/Reproduce/clustering/MultiGATE/utils.py:192: ImplicitModificationWarning: Trying to modify attribute `.var` of view, initializing view as actual.\n",
      "  rna.var['chrom'] = gene_df.loc[rna.var_names, 'chrom']\n",
      "/lustre/project/Stat/s1155202250/fastfolder/code/st/MultiGATE/MultiGATEgithub0607/MultiGATE/Reproduce/clustering/MultiGATE/utils.py:209: ImplicitModificationWarning: Trying to modify attribute `.var` of view, initializing view as actual.\n",
      "  atac.var[['chrom', 'chromStart', 'chromEnd']] = chrom_info\n",
      "/lustre/project/Stat/s1155202250/fastfolder/code/st/MultiGATE/MultiGATEgithub0607/MultiGATE/Reproduce/clustering/MultiGATE/utils.py:231: FutureWarning: biadjacency_matrix will return a scipy.sparse array instead of a matrix in NetworkX 3.0\n",
      "  dist = biadjacency_matrix(dist_graph, genes.index, peaks.index, weight=\"dist\", dtype=np.float32).tocoo()\n",
      "/users/s1155202250/basic/conda/condainstall/envs/MultiGATEhome/lib/python3.7/site-packages/anndata/compat/_overloaded_dict.py:106: ImplicitModificationWarning: Trying to modify attribute `._uns` of view, initializing view as actual.\n",
      "  self.data[key] = value\n"
     ]
    },
    {
     "name": "stdout",
     "output_type": "stream",
     "text": [
      "The graph contains 8200 edges, 1828 genes.\n",
      "4.4858 peaks per gene on average.\n"
     ]
    }
   ],
   "source": [
    "\n",
    "adata1 = adata1[:, adata1.var['highly_variable']]\n",
    "adata2 = adata2[:, adata2.var['highly_variable']]\n",
    "\n",
    "MultiGATE.Cal_gene_peak_Net_new(adata1, adata2, 150000,file = '/lustre/project/Stat/s1155202250/fastfolder/code/st/MultiGATE/tutorial/data_tutorial/human/gencode.v25.chr_patch_hapl_scaff.annotation.gtf.gz')\n",
    "adata1.uns['gene_peak_Net'] = adata2.uns['gene_peak_Net']"
   ]
  },
  {
   "cell_type": "markdown",
   "metadata": {},
   "source": [
    "## Running MultiGATE"
   ]
  },
  {
   "cell_type": "code",
   "execution_count": 38,
   "metadata": {},
   "outputs": [
    {
     "name": "stderr",
     "output_type": "stream",
     "text": [
      "2025-06-16 16:02:55.971727: I tensorflow/core/common_runtime/gpu/gpu_device.cc:1618] Found device 0 with properties: \n",
      "name: Tesla V100-PCIE-32GB major: 7 minor: 0 memoryClockRate(GHz): 1.38\n",
      "pciBusID: 0000:3b:00.0\n",
      "2025-06-16 16:02:55.971918: I tensorflow/stream_executor/platform/default/dso_loader.cc:44] Successfully opened dynamic library libcudart.so.10.0\n",
      "2025-06-16 16:02:55.971934: I tensorflow/stream_executor/platform/default/dso_loader.cc:44] Successfully opened dynamic library libcublas.so.10.0\n",
      "2025-06-16 16:02:55.971946: I tensorflow/stream_executor/platform/default/dso_loader.cc:44] Successfully opened dynamic library libcufft.so.10.0\n",
      "2025-06-16 16:02:55.971957: I tensorflow/stream_executor/platform/default/dso_loader.cc:44] Successfully opened dynamic library libcurand.so.10.0\n",
      "2025-06-16 16:02:55.971969: I tensorflow/stream_executor/platform/default/dso_loader.cc:44] Successfully opened dynamic library libcusolver.so.10.0\n",
      "2025-06-16 16:02:55.971988: I tensorflow/stream_executor/platform/default/dso_loader.cc:44] Successfully opened dynamic library libcusparse.so.10.0\n",
      "2025-06-16 16:02:55.972000: I tensorflow/stream_executor/platform/default/dso_loader.cc:44] Successfully opened dynamic library libcudnn.so.7\n",
      "2025-06-16 16:02:55.972287: I tensorflow/core/common_runtime/gpu/gpu_device.cc:1746] Adding visible gpu devices: 0\n",
      "2025-06-16 16:02:55.972327: I tensorflow/core/common_runtime/gpu/gpu_device.cc:1159] Device interconnect StreamExecutor with strength 1 edge matrix:\n",
      "2025-06-16 16:02:55.972333: I tensorflow/core/common_runtime/gpu/gpu_device.cc:1165]      0 \n",
      "2025-06-16 16:02:55.972338: I tensorflow/core/common_runtime/gpu/gpu_device.cc:1178] 0:   N \n",
      "2025-06-16 16:02:55.972617: I tensorflow/core/common_runtime/gpu/gpu_device.cc:1304] Created TensorFlow device (/job:localhost/replica:0/task:0/device:GPU:0 with 22750 MB memory) -> physical GPU (device: 0, name: Tesla V100-PCIE-32GB, pci bus id: 0000:3b:00.0, compute capability: 7.0)\n",
      "Epoch Progress: 100%|██████████████████████████████████████████████████████████████████████████████████████████████████████████████████████████████████| 3000/3000 [02:54<00:00, 17.19epoch/s]\n"
     ]
    }
   ],
   "source": [
    "num_epoch = 3000 \n",
    "adata1, adata2 = MultiGATE.train_MultiGATE(adata1, adata2, bp_width = 400,n_epochs=num_epoch,save_attention=False) "
   ]
  },
  {
   "cell_type": "markdown",
   "metadata": {},
   "source": [
    "## Clustering"
   ]
  },
  {
   "cell_type": "code",
   "execution_count": 39,
   "metadata": {},
   "outputs": [],
   "source": [
    "size = 10\n",
    "resolution =  0.1 \n",
    "sc.pp.neighbors(adata1, use_rep='MultiGATE_clip_all',key_added = 'avg') \n",
    "sc.tl.louvain(adata1, resolution=resolution,neighbors_key = 'avg')"
   ]
  },
  {
   "cell_type": "markdown",
   "metadata": {},
   "source": [
    "## Plotting the results"
   ]
  },
  {
   "cell_type": "code",
   "execution_count": 40,
   "metadata": {},
   "outputs": [
    {
     "data": {
      "image/png": "[encoded data removed]",
      "text/plain": [
       "<Figure size 400x300 with 1 Axes>"
      ]
     },
     "metadata": {},
     "output_type": "display_data"
    }
   ],
   "source": [
    "size=10\n",
    "plt.rcParams[\"figure.figsize\"] = (4, 3) \n",
    "\n",
    "sc.tl.umap(adata1,neighbors_key = 'avg',)\n",
    "sc.pl.embedding(adata1, basis=\"spatial\", color=\"louvain\",s=size, show=False, title='MultiGATE',)\n",
    "plt.show()"
   ]
  },
  {
   "cell_type": "code",
   "execution_count": 41,
   "metadata": {},
   "outputs": [],
   "source": [
    "adata1.write( os.path.join(base_path,'slideTags_adata1.h5ad'))\n",
    "adata2.write( os.path.join(base_path,'slideTags_adata2.h5ad'))"
   ]
  }
 ],
 "metadata": {
  "kernelspec": {
   "display_name": "Python 3 (ipykernel)",
   "language": "python",
   "name": "python3"
  },
  "language_info": {
   "codemirror_mode": {
    "name": "ipython",
    "version": 3
   },
   "file_extension": ".py",
   "mimetype": "text/x-python",
   "name": "python",
   "nbconvert_exporter": "python",
   "pygments_lexer": "ipython3",
   "version": "3.7.12"
  }
 },
 "nbformat": 4,
 "nbformat_minor": 2
}
